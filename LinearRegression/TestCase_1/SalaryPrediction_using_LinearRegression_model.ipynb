{
 "cells": [
  {
   "cell_type": "code",
   "execution_count": 1,
   "id": "55b03f05",
   "metadata": {},
   "outputs": [],
   "source": [
    "import pandas as pd\n",
    "import numpy as np\n",
    "import matplotlib.pyplot as plt\n",
    "from sklearn.linear_model import LinearRegression"
   ]
  },
  {
   "cell_type": "markdown",
   "id": "af15582d",
   "metadata": {},
   "source": [
    "## 1. Reading Data"
   ]
  },
  {
   "cell_type": "code",
   "execution_count": 2,
   "id": "4e9fb0e4",
   "metadata": {},
   "outputs": [
    {
     "data": {
      "text/html": [
       "<div>\n",
       "<style scoped>\n",
       "    .dataframe tbody tr th:only-of-type {\n",
       "        vertical-align: middle;\n",
       "    }\n",
       "\n",
       "    .dataframe tbody tr th {\n",
       "        vertical-align: top;\n",
       "    }\n",
       "\n",
       "    .dataframe thead th {\n",
       "        text-align: right;\n",
       "    }\n",
       "</style>\n",
       "<table border=\"1\" class=\"dataframe\">\n",
       "  <thead>\n",
       "    <tr style=\"text-align: right;\">\n",
       "      <th></th>\n",
       "      <th>YearsExperience</th>\n",
       "      <th>Salary</th>\n",
       "    </tr>\n",
       "  </thead>\n",
       "  <tbody>\n",
       "    <tr>\n",
       "      <th>0</th>\n",
       "      <td>1.1</td>\n",
       "      <td>39343.0</td>\n",
       "    </tr>\n",
       "    <tr>\n",
       "      <th>1</th>\n",
       "      <td>1.3</td>\n",
       "      <td>46205.0</td>\n",
       "    </tr>\n",
       "    <tr>\n",
       "      <th>2</th>\n",
       "      <td>1.5</td>\n",
       "      <td>37731.0</td>\n",
       "    </tr>\n",
       "    <tr>\n",
       "      <th>3</th>\n",
       "      <td>2.0</td>\n",
       "      <td>43525.0</td>\n",
       "    </tr>\n",
       "    <tr>\n",
       "      <th>4</th>\n",
       "      <td>2.2</td>\n",
       "      <td>39891.0</td>\n",
       "    </tr>\n",
       "  </tbody>\n",
       "</table>\n",
       "</div>"
      ],
      "text/plain": [
       "   YearsExperience   Salary\n",
       "0              1.1  39343.0\n",
       "1              1.3  46205.0\n",
       "2              1.5  37731.0\n",
       "3              2.0  43525.0\n",
       "4              2.2  39891.0"
      ]
     },
     "execution_count": 2,
     "metadata": {},
     "output_type": "execute_result"
    }
   ],
   "source": [
    "employee_data = pd.read_csv(\"Salary_Data.csv\")\n",
    "employee_data.head()"
   ]
  },
  {
   "cell_type": "markdown",
   "id": "affabf4e",
   "metadata": {},
   "source": [
    "## 2. Defining Variables"
   ]
  },
  {
   "cell_type": "code",
   "execution_count": 3,
   "id": "392e1743",
   "metadata": {},
   "outputs": [],
   "source": [
    "X = employee_data[\"YearsExperience\"].values\n",
    "Y = employee_data[\"Salary\"].values"
   ]
  },
  {
   "cell_type": "code",
   "execution_count": 4,
   "id": "6299e8a6",
   "metadata": {},
   "outputs": [
    {
     "data": {
      "image/png": "[encoded data removed]",
      "text/plain": [
       "<Figure size 432x288 with 1 Axes>"
      ]
     },
     "metadata": {
      "needs_background": "light"
     },
     "output_type": "display_data"
    }
   ],
   "source": [
    "plt.scatter(X,Y)\n",
    "plt.show()"
   ]
  },
  {
   "cell_type": "markdown",
   "id": "c5761017",
   "metadata": {},
   "source": [
    "## 3. LinearRegression Model"
   ]
  },
  {
   "cell_type": "code",
   "execution_count": 5,
   "id": "ca9e2682",
   "metadata": {},
   "outputs": [],
   "source": [
    "X = X.reshape((len(X),1))\n",
    "linReg = LinearRegression()\n",
    "linReg.fit(X,Y)\n",
    "c = linReg.intercept_\n",
    "m = linReg.coef_"
   ]
  },
  {
   "cell_type": "code",
   "execution_count": 6,
   "id": "be52a20d",
   "metadata": {},
   "outputs": [
    {
     "name": "stdout",
     "output_type": "stream",
     "text": [
      "Slope: 9449.962321455074 y-Intercept: 25792.20019866871\n"
     ]
    }
   ],
   "source": [
    "print(\"Slope:\",m[0] , \"y-Intercept:\",c)"
   ]
  },
  {
   "cell_type": "markdown",
   "id": "5ed9087f",
   "metadata": {},
   "source": [
    "## 4. Plotting graph"
   ]
  },
  {
   "cell_type": "code",
   "execution_count": 7,
   "id": "f7dbaeae",
   "metadata": {},
   "outputs": [
    {
     "data": {
      "image/png": "[encoded data removed]",
      "text/plain": [
       "<Figure size 432x288 with 1 Axes>"
      ]
     },
     "metadata": {
      "needs_background": "light"
     },
     "output_type": "display_data"
    }
   ],
   "source": [
    "line_x = np.linspace(0 , np.max(X),1000)\n",
    "line_y = c + m * line_x\n",
    "plt.plot(line_x,line_y,color=\"Blue\" ,label=\"Regression Line\")\n",
    "plt.scatter(X, Y, label=\"Data Points\")\n",
    "plt.xlabel(\"Experience in years\")\n",
    "plt.ylabel(\"Salary in rupees\")\n",
    "plt.show()"
   ]
  },
  {
   "cell_type": "markdown",
   "id": "d139209b",
   "metadata": {},
   "source": [
    "## 5. Finding the R square error"
   ]
  },
  {
   "cell_type": "code",
   "execution_count": 8,
   "id": "2a4bbd75",
   "metadata": {},
   "outputs": [
    {
     "name": "stdout",
     "output_type": "stream",
     "text": [
      "Percentage of Accuracy is  95.69566641435085\n"
     ]
    }
   ],
   "source": [
    "r2 = linReg.score(X , Y)  # r2 = 1 - error\n",
    "accuracy = r2*100\n",
    "print(\"Percentage of Accuracy is \", accuracy)"
   ]
  },
  {
   "cell_type": "code",
   "execution_count": null,
   "id": "e7544ff0",
   "metadata": {},
   "outputs": [],
   "source": []
  },
  {
   "cell_type": "code",
   "execution_count": null,
   "id": "e546ba5b",
   "metadata": {},
   "outputs": [],
   "source": []
  }
 ],
 "metadata": {
  "kernelspec": {
   "display_name": "Python 3",
   "language": "python",
   "name": "python3"
  },
  "language_info": {
   "codemirror_mode": {
    "name": "ipython",
    "version": 3
   },
   "file_extension": ".py",
   "mimetype": "text/x-python",
   "name": "python",
   "nbconvert_exporter": "python",
   "pygments_lexer": "ipython3",
   "version": "3.8.8"
  }
 },
 "nbformat": 4,
 "nbformat_minor": 5
}
